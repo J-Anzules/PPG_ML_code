{
 "cells": [
  {
   "cell_type": "code",
   "execution_count": 6,
   "id": "c2caafa0",
   "metadata": {},
   "outputs": [],
   "source": [
    "import pandas as pd\n",
    "import wfdb"
   ]
  },
  {
   "cell_type": "code",
   "execution_count": 12,
   "id": "64184e98",
   "metadata": {},
   "outputs": [],
   "source": [
    "record = wfdb.rdrecord(\"../data/physionet.org.1.0.0/s1_high_resistance_bike\")\n",
    "annotations = wfdb.rdann('../data/physionet.org.1.0.0/s1_high_resistance_bike', 'atr')"
   ]
  },
  {
   "cell_type": "code",
   "execution_count": 13,
   "id": "6fcc165f",
   "metadata": {},
   "outputs": [],
   "source": [
    "signal_data = record.p_signal"
   ]
  },
  {
   "cell_type": "code",
   "execution_count": null,
   "id": "72ca79c2",
   "metadata": {},
   "outputs": [],
   "source": []
  }
 ],
 "metadata": {
  "kernelspec": {
   "display_name": "Python 3 (ipykernel)",
   "language": "python",
   "name": "python3"
  },
  "language_info": {
   "codemirror_mode": {
    "name": "ipython",
    "version": 3
   },
   "file_extension": ".py",
   "mimetype": "text/x-python",
   "name": "python",
   "nbconvert_exporter": "python",
   "pygments_lexer": "ipython3",
   "version": "3.9.16"
  }
 },
 "nbformat": 4,
 "nbformat_minor": 5
}
